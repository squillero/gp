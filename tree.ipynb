{
 "cells": [
  {
   "cell_type": "code",
   "execution_count": 1,
   "id": "18bced1e-98f6-47e0-abe9-c6704729497c",
   "metadata": {},
   "outputs": [],
   "source": [
    "import inspect\n",
    "from typing import Callable\n",
    "import numbers\n",
    "import operator\n",
    "import math\n",
    "\n",
    "from icecream import ic"
   ]
  },
  {
   "cell_type": "code",
   "execution_count": 43,
   "id": "4943e494-f382-4856-b39b-a685743104bc",
   "metadata": {},
   "outputs": [],
   "source": [
    "class Node:    \n",
    "    _func: Callable\n",
    "    _children: tuple['Node']\n",
    "    _arity: int\n",
    "    _leaf: bool\n",
    "    _str: str\n",
    "    \n",
    "    def __init__(self, node, children=None, *, name=None):\n",
    "        if callable(node):\n",
    "            def _f(*_args, **_kwargs):\n",
    "                return node(*_args)            \n",
    "            self._func = _f\n",
    "            self._children = tuple(children)\n",
    "            self._arity = len(inspect.getfullargspec(node).args)\n",
    "            self._leaf = False\n",
    "            self._children = tuple(children)\n",
    "            if name is not None:\n",
    "                self._str = name\n",
    "            elif node.__name__ == '<lambda>':\n",
    "                self._str = 'λ'\n",
    "            else:\n",
    "                self._str = node.__name__\n",
    "        elif isinstance(node, numbers.Number):\n",
    "            self._func = eval(f'lambda **_kw: {node}')\n",
    "            self._children = list()\n",
    "            self._arity = 0\n",
    "            self._leaf = True\n",
    "            self._str = str(node)\n",
    "        elif isinstance(node, str):\n",
    "            self._func = eval(f'lambda *, {node}, **_kw: {node}')\n",
    "            self._children = list()\n",
    "            self._arity = 0\n",
    "            self._leaf = True\n",
    "            self._str = str(node)\n",
    "        else:\n",
    "            assert False\n",
    "\n",
    "    def __call__(self, **kwargs):\n",
    "        return self._func(*[c(**kwargs) for c in self._children], **kwargs)\n",
    "\n",
    "    @property\n",
    "    def value(self):\n",
    "        return self()\n",
    "\n",
    "    @property\n",
    "    def arity(self):\n",
    "        return self._arity\n",
    "\n",
    "    @property\n",
    "    def is_leaf(self):\n",
    "        return self._leaf\n",
    "\n",
    "    def __str__(self):\n",
    "        if self.is_leaf:\n",
    "            return self._str\n",
    "        else:\n",
    "            return f'{self._str}(' + ', '.join(str(c) for c in self._children) + ')'\n",
    "\n",
    "    @staticmethod\n",
    "    def get_nodes(node: Node):\n",
    "        result = set()\n",
    "        Node._get_nodes(result, node)\n",
    "        return result\n",
    "\n",
    "    @staticmethod\n",
    "    def _get_nodes(bunch: set, node: Node):\n",
    "        bunch.add(node)\n",
    "        for c in node._children:\n",
    "            Node._get_nodes(bunch, c)"
   ]
  },
  {
   "cell_type": "markdown",
   "id": "a08d65fe-8c9e-4b93-a6ea-3294d3f397f1",
   "metadata": {},
   "source": [
    "# EXAMPLE"
   ]
  },
  {
   "cell_type": "code",
   "execution_count": 49,
   "id": "be128230-dc0a-416c-b1a3-b0e8c841df98",
   "metadata": {},
   "outputs": [
    {
     "data": {
      "text/plain": [
       "'λ(add(kwargs, kwargs))'"
      ]
     },
     "execution_count": 49,
     "metadata": {},
     "output_type": "execute_result"
    }
   ],
   "source": [
    "var = Node('kwargs')\n",
    "num = Node(1)\n",
    "node = Node(operator.add, [var, var])\n",
    "f = Node(lambda args: -args, [node])\n",
    "str(f)"
   ]
  },
  {
   "cell_type": "code",
   "execution_count": 50,
   "id": "757310a5-81b4-48b1-b283-d70ea7ea464a",
   "metadata": {},
   "outputs": [
    {
     "data": {
      "text/plain": [
       "{<__main__.Node at 0x105842690>,\n",
       " <__main__.Node at 0x105840350>,\n",
       " <__main__.Node at 0x105842540>}"
      ]
     },
     "execution_count": 50,
     "metadata": {},
     "output_type": "execute_result"
    }
   ],
   "source": [
    "Node.get_nodes(f)"
   ]
  },
  {
   "cell_type": "code",
   "execution_count": 51,
   "id": "36684233-d89c-4fac-a49f-4bd1f981b847",
   "metadata": {},
   "outputs": [
    {
     "data": {
      "text/plain": [
       "-2"
      ]
     },
     "execution_count": 51,
     "metadata": {},
     "output_type": "execute_result"
    }
   ],
   "source": [
    "f(kwargs=1)"
   ]
  },
  {
   "cell_type": "code",
   "execution_count": 52,
   "id": "fc40cd87-5817-4094-90c7-6145841c850f",
   "metadata": {},
   "outputs": [
    {
     "data": {
      "text/plain": [
       "'λ(add(kwargs, kwargs))'"
      ]
     },
     "execution_count": 52,
     "metadata": {},
     "output_type": "execute_result"
    }
   ],
   "source": [
    "str(f)"
   ]
  },
  {
   "cell_type": "code",
   "execution_count": null,
   "id": "9b8b23b4-17a3-4e2d-b043-50ac8b7af420",
   "metadata": {},
   "outputs": [],
   "source": []
  }
 ],
 "metadata": {
  "kernelspec": {
   "display_name": "Python 3 (ipykernel)",
   "language": "python",
   "name": "python3"
  },
  "language_info": {
   "codemirror_mode": {
    "name": "ipython",
    "version": 3
   },
   "file_extension": ".py",
   "mimetype": "text/x-python",
   "name": "python",
   "nbconvert_exporter": "python",
   "pygments_lexer": "ipython3",
   "version": "3.12.4"
  }
 },
 "nbformat": 4,
 "nbformat_minor": 5
}
