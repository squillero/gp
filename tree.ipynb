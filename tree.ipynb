{
 "cells": [
  {
   "cell_type": "code",
   "id": "18bced1e-98f6-47e0-abe9-c6704729497c",
   "metadata": {
    "ExecuteTime": {
     "end_time": "2024-07-18T02:22:18.986645Z",
     "start_time": "2024-07-18T02:22:18.980659Z"
    }
   },
   "source": [
    "import operator\n",
    "\n",
    "from gxgp.node import Node"
   ],
   "outputs": [],
   "execution_count": 1
  },
  {
   "cell_type": "markdown",
   "id": "a08d65fe-8c9e-4b93-a6ea-3294d3f397f1",
   "metadata": {},
   "source": [
    "# EXAMPLE"
   ]
  },
  {
   "cell_type": "code",
   "id": "be128230-dc0a-416c-b1a3-b0e8c841df98",
   "metadata": {
    "ExecuteTime": {
     "end_time": "2024-07-18T02:22:26.898916Z",
     "start_time": "2024-07-18T02:22:26.892305Z"
    }
   },
   "source": [
    "var = Node('kwargs')\n",
    "num = Node(1)\n",
    "node = Node(operator.add, [var, var])\n",
    "f = Node(lambda args: -args, [node])\n",
    "str(f)"
   ],
   "outputs": [
    {
     "data": {
      "text/plain": [
       "'λ(add(kwargs, kwargs))'"
      ]
     },
     "execution_count": 2,
     "metadata": {},
     "output_type": "execute_result"
    }
   ],
   "execution_count": 2
  },
  {
   "cell_type": "code",
   "id": "757310a5-81b4-48b1-b283-d70ea7ea464a",
   "metadata": {
    "ExecuteTime": {
     "end_time": "2024-07-18T02:22:28.348882Z",
     "start_time": "2024-07-18T02:22:28.342824Z"
    }
   },
   "source": [
    "Node.get_nodes(f)"
   ],
   "outputs": [
    {
     "data": {
      "text/plain": [
       "{<gxgp.node.Node at 0x106124290>,\n",
       " <gxgp.node.Node at 0x1064ead50>,\n",
       " <gxgp.node.Node at 0x1067cae10>}"
      ]
     },
     "execution_count": 3,
     "metadata": {},
     "output_type": "execute_result"
    }
   ],
   "execution_count": 3
  },
  {
   "cell_type": "code",
   "id": "36684233-d89c-4fac-a49f-4bd1f981b847",
   "metadata": {
    "ExecuteTime": {
     "end_time": "2024-07-18T02:22:35.354562Z",
     "start_time": "2024-07-18T02:22:35.349735Z"
    }
   },
   "source": [
    "f(kwargs=1)"
   ],
   "outputs": [
    {
     "data": {
      "text/plain": [
       "-2"
      ]
     },
     "execution_count": 4,
     "metadata": {},
     "output_type": "execute_result"
    }
   ],
   "execution_count": 4
  },
  {
   "cell_type": "code",
   "execution_count": 52,
   "id": "fc40cd87-5817-4094-90c7-6145841c850f",
   "metadata": {},
   "outputs": [
    {
     "data": {
      "text/plain": [
       "'λ(add(kwargs, kwargs))'"
      ]
     },
     "execution_count": 52,
     "metadata": {},
     "output_type": "execute_result"
    }
   ],
   "source": [
    "str(f)"
   ]
  },
  {
   "cell_type": "code",
   "execution_count": null,
   "id": "9b8b23b4-17a3-4e2d-b043-50ac8b7af420",
   "metadata": {},
   "outputs": [],
   "source": []
  }
 ],
 "metadata": {
  "kernelspec": {
   "display_name": "Python 3 (ipykernel)",
   "language": "python",
   "name": "python3"
  },
  "language_info": {
   "codemirror_mode": {
    "name": "ipython",
    "version": 3
   },
   "file_extension": ".py",
   "mimetype": "text/x-python",
   "name": "python",
   "nbconvert_exporter": "python",
   "pygments_lexer": "ipython3",
   "version": "3.12.4"
  }
 },
 "nbformat": 4,
 "nbformat_minor": 5
}
